{
  "nbformat": 4,
  "nbformat_minor": 0,
  "metadata": {
    "colab": {
      "provenance": []
    },
    "kernelspec": {
      "name": "python3",
      "display_name": "Python 3"
    },
    "language_info": {
      "name": "python"
    }
  },
  "cells": [
    {
      "cell_type": "code",
      "execution_count": null,
      "metadata": {
        "colab": {
          "base_uri": "https://localhost:8080/"
        },
        "id": "NKafcItm2piq",
        "outputId": "b6aafcac-d337-4de4-a484-827735217b84"
      },
      "outputs": [
        {
          "output_type": "stream",
          "name": "stdout",
          "text": [
            "X shape: (242, 800)\n",
            "y shape: (242,)\n",
            "Label mapping: {np.str_('fall'): np.int64(0), np.str_('nofall'): np.int64(1)}\n"
          ]
        }
      ],
      "source": [
        "import pandas as pd\n",
        "import numpy as np\n",
        "from sklearn.preprocessing import LabelEncoder\n",
        "\n",
        "# STEP 1: Load the dataset\n",
        "df = pd.read_csv(\"acc_gyr.csv\")  # Change path if needed\n",
        "\n",
        "# STEP 2: Compute vector norms for accelerometer and gyroscope\n",
        "df['acc_norm'] = np.sqrt(df['xAcc']**2 + df['yAcc']**2 + df['zAcc']**2)\n",
        "df['gyr_norm'] = np.sqrt(df['xGyro']**2 + df['yGyro']**2 + df['zGyro']**2)\n",
        "\n",
        "# STEP 3: Simplify labels to \"fall\" or \"nofall\"\n",
        "fall_keywords = ['fall', 'slip', 'collapse', 'trip']  # Customize if needed\n",
        "\n",
        "def map_label(label):\n",
        "    for word in fall_keywords:\n",
        "        if word in label.lower():\n",
        "            return 'fall'\n",
        "    return 'nofall'\n",
        "\n",
        "df['label'] = df['label'].apply(map_label)\n",
        "\n",
        "# STEP 4: Keep only necessary columns\n",
        "df_reduced = df[['acc_norm', 'gyr_norm', 'label']]\n",
        "\n",
        "# STEP 5: Group every 400 rows into one sample\n",
        "samples = len(df_reduced) // 400\n",
        "X = []\n",
        "y = []\n",
        "\n",
        "for i in range(samples):\n",
        "    chunk = df_reduced.iloc[i*400:(i+1)*400]\n",
        "\n",
        "    acc_flat = chunk['acc_norm'].values  # 400 values\n",
        "    gyr_flat = chunk['gyr_norm'].values  # 400 values\n",
        "\n",
        "    # Combine into a single 800-length feature vector\n",
        "    combined = np.concatenate((acc_flat, gyr_flat))\n",
        "    X.append(combined)\n",
        "\n",
        "    # Assume all 400 rows in the chunk have the same label (take first one)\n",
        "    y.append(chunk['label'].values[0])\n",
        "\n",
        "# STEP 6: Convert to numpy array and encode labels\n",
        "X = np.array(X)\n",
        "le = LabelEncoder()\n",
        "y = le.fit_transform(y)  # fall → 1, nofall → 0\n",
        "\n",
        "# Print shapes\n",
        "print(\"X shape:\", X.shape)\n",
        "print(\"y shape:\", y.shape)\n",
        "print(\"Label mapping:\", dict(zip(le.classes_, le.transform(le.classes_))))\n"
      ]
    },
    {
      "cell_type": "code",
      "source": [
        "df_reduced.head(20)\n",
        "df_reduced.to_csv('cleaned.csv')"
      ],
      "metadata": {
        "id": "4gmp8pKm5Ntj"
      },
      "execution_count": null,
      "outputs": []
    },
    {
      "cell_type": "code",
      "source": [
        "df_reduced.info()"
      ],
      "metadata": {
        "colab": {
          "base_uri": "https://localhost:8080/"
        },
        "id": "AGItZkJd5R0V",
        "outputId": "76935759-aa4f-4ae3-a237-414d45811f6b"
      },
      "execution_count": null,
      "outputs": [
        {
          "output_type": "stream",
          "name": "stdout",
          "text": [
            "<class 'pandas.core.frame.DataFrame'>\n",
            "RangeIndex: 96800 entries, 0 to 96799\n",
            "Data columns (total 3 columns):\n",
            " #   Column    Non-Null Count  Dtype  \n",
            "---  ------    --------------  -----  \n",
            " 0   acc_norm  96800 non-null  float64\n",
            " 1   gyr_norm  96800 non-null  float64\n",
            " 2   label     96800 non-null  object \n",
            "dtypes: float64(2), object(1)\n",
            "memory usage: 2.2+ MB\n"
          ]
        }
      ]
    },
    {
      "cell_type": "code",
      "source": [
        "import numpy as np\n",
        "from sklearn.model_selection import train_test_split\n",
        "from sklearn.metrics import confusion_matrix, classification_report\n",
        "import tensorflow as tf\n",
        "from tensorflow.keras.models import Sequential\n",
        "from tensorflow.keras.layers import Dense, Dropout\n",
        "from tensorflow.keras.utils import to_categorical\n",
        "import matplotlib.pyplot as plt\n",
        "import seaborn as sns\n",
        "\n",
        "# STEP 1: Split into train and test sets\n",
        "X_train, X_test, y_train, y_test = train_test_split(\n",
        "    X, y, test_size=0.2, random_state=42, stratify=y\n",
        ")\n",
        "\n",
        "# STEP 2: One-hot encode labels (binary classification)\n",
        "y_train_cat = to_categorical(y_train)\n",
        "y_test_cat = to_categorical(y_test)\n",
        "\n",
        "# STEP 3: Build the neural network model\n",
        "model = Sequential([\n",
        "    Dense(256, input_shape=(800,), activation='relu'),\n",
        "    Dropout(0.3),\n",
        "    Dense(128, activation='relu'),\n",
        "    Dropout(0.3),\n",
        "    Dense(2, activation='softmax')  # 2 output classes: fall, nofall\n",
        "])\n",
        "\n",
        "# STEP 4: Compile the model\n",
        "model.compile(optimizer='adam',\n",
        "              loss='categorical_crossentropy',\n",
        "              metrics=['accuracy'])\n",
        "\n",
        "# STEP 5: Train the model\n",
        "history = model.fit(X_train, y_train_cat, epochs=30, batch_size=16, validation_split=0.1)\n",
        "\n",
        "# STEP 6: Evaluate on test data\n",
        "loss, accuracy = model.evaluate(X_test, y_test_cat)\n",
        "print(f\"Test Accuracy: {accuracy:.4f}\")\n",
        "\n",
        "# STEP 7: Confusion matrix\n",
        "y_pred_probs = model.predict(X_test)\n",
        "y_pred = np.argmax(y_pred_probs, axis=1)\n",
        "\n",
        "cm = confusion_matrix(y_test, y_pred)\n",
        "sns.heatmap(cm, annot=True, fmt='d', cmap='Blues', xticklabels=['fall', 'nofall'], yticklabels=['fall', 'nofall'])\n",
        "plt.xlabel('Predicted')\n",
        "plt.ylabel('True')\n",
        "plt.title('Confusion Matrix')\n",
        "plt.show()\n",
        "\n",
        "print(classification_report(y_test, y_pred, target_names=['fall', 'nofall']))\n"
      ],
      "metadata": {
        "colab": {
          "base_uri": "https://localhost:8080/",
          "height": 1000
        },
        "id": "YeGIuXfv5VIo",
        "outputId": "29f38dbc-7d4a-41cf-917d-921000d99d59"
      },
      "execution_count": null,
      "outputs": [
        {
          "output_type": "stream",
          "name": "stdout",
          "text": [
            "Epoch 1/30\n"
          ]
        },
        {
          "output_type": "stream",
          "name": "stderr",
          "text": [
            "/usr/local/lib/python3.11/dist-packages/keras/src/layers/core/dense.py:87: UserWarning: Do not pass an `input_shape`/`input_dim` argument to a layer. When using Sequential models, prefer using an `Input(shape)` object as the first layer in the model instead.\n",
            "  super().__init__(activity_regularizer=activity_regularizer, **kwargs)\n"
          ]
        },
        {
          "output_type": "stream",
          "name": "stdout",
          "text": [
            "\u001b[1m11/11\u001b[0m \u001b[32m━━━━━━━━━━━━━━━━━━━━\u001b[0m\u001b[37m\u001b[0m \u001b[1m2s\u001b[0m 68ms/step - accuracy: 0.6289 - loss: 16.4028 - val_accuracy: 0.8500 - val_loss: 2.6883\n",
            "Epoch 2/30\n",
            "\u001b[1m11/11\u001b[0m \u001b[32m━━━━━━━━━━━━━━━━━━━━\u001b[0m\u001b[37m\u001b[0m \u001b[1m0s\u001b[0m 11ms/step - accuracy: 0.7271 - loss: 7.2954 - val_accuracy: 0.9000 - val_loss: 0.9602\n",
            "Epoch 3/30\n",
            "\u001b[1m11/11\u001b[0m \u001b[32m━━━━━━━━━━━━━━━━━━━━\u001b[0m\u001b[37m\u001b[0m \u001b[1m0s\u001b[0m 12ms/step - accuracy: 0.7404 - loss: 7.7789 - val_accuracy: 0.9000 - val_loss: 2.4716\n",
            "Epoch 4/30\n",
            "\u001b[1m11/11\u001b[0m \u001b[32m━━━━━━━━━━━━━━━━━━━━\u001b[0m\u001b[37m\u001b[0m \u001b[1m0s\u001b[0m 15ms/step - accuracy: 0.7910 - loss: 7.6935 - val_accuracy: 0.9000 - val_loss: 4.1115\n",
            "Epoch 5/30\n",
            "\u001b[1m11/11\u001b[0m \u001b[32m━━━━━━━━━━━━━━━━━━━━\u001b[0m\u001b[37m\u001b[0m \u001b[1m0s\u001b[0m 12ms/step - accuracy: 0.8182 - loss: 3.4604 - val_accuracy: 0.8500 - val_loss: 1.7906\n",
            "Epoch 6/30\n",
            "\u001b[1m11/11\u001b[0m \u001b[32m━━━━━━━━━━━━━━━━━━━━\u001b[0m\u001b[37m\u001b[0m \u001b[1m0s\u001b[0m 11ms/step - accuracy: 0.7563 - loss: 4.4323 - val_accuracy: 0.8500 - val_loss: 2.4765\n",
            "Epoch 7/30\n",
            "\u001b[1m11/11\u001b[0m \u001b[32m━━━━━━━━━━━━━━━━━━━━\u001b[0m\u001b[37m\u001b[0m \u001b[1m0s\u001b[0m 13ms/step - accuracy: 0.8100 - loss: 2.6027 - val_accuracy: 0.9000 - val_loss: 2.1835\n",
            "Epoch 8/30\n",
            "\u001b[1m11/11\u001b[0m \u001b[32m━━━━━━━━━━━━━━━━━━━━\u001b[0m\u001b[37m\u001b[0m \u001b[1m0s\u001b[0m 11ms/step - accuracy: 0.8392 - loss: 1.9359 - val_accuracy: 0.8500 - val_loss: 1.6036\n",
            "Epoch 9/30\n",
            "\u001b[1m11/11\u001b[0m \u001b[32m━━━━━━━━━━━━━━━━━━━━\u001b[0m\u001b[37m\u001b[0m \u001b[1m0s\u001b[0m 15ms/step - accuracy: 0.8210 - loss: 2.1142 - val_accuracy: 0.8000 - val_loss: 1.4233\n",
            "Epoch 10/30\n",
            "\u001b[1m11/11\u001b[0m \u001b[32m━━━━━━━━━━━━━━━━━━━━\u001b[0m\u001b[37m\u001b[0m \u001b[1m0s\u001b[0m 11ms/step - accuracy: 0.8287 - loss: 1.9022 - val_accuracy: 0.8500 - val_loss: 1.1542\n",
            "Epoch 11/30\n",
            "\u001b[1m11/11\u001b[0m \u001b[32m━━━━━━━━━━━━━━━━━━━━\u001b[0m\u001b[37m\u001b[0m \u001b[1m0s\u001b[0m 13ms/step - accuracy: 0.8791 - loss: 1.2725 - val_accuracy: 0.8500 - val_loss: 2.0884\n",
            "Epoch 12/30\n",
            "\u001b[1m11/11\u001b[0m \u001b[32m━━━━━━━━━━━━━━━━━━━━\u001b[0m\u001b[37m\u001b[0m \u001b[1m0s\u001b[0m 15ms/step - accuracy: 0.8580 - loss: 1.3823 - val_accuracy: 0.9000 - val_loss: 1.5854\n",
            "Epoch 13/30\n",
            "\u001b[1m11/11\u001b[0m \u001b[32m━━━━━━━━━━━━━━━━━━━━\u001b[0m\u001b[37m\u001b[0m \u001b[1m0s\u001b[0m 12ms/step - accuracy: 0.9080 - loss: 1.2073 - val_accuracy: 0.9500 - val_loss: 1.8894\n",
            "Epoch 14/30\n",
            "\u001b[1m11/11\u001b[0m \u001b[32m━━━━━━━━━━━━━━━━━━━━\u001b[0m\u001b[37m\u001b[0m \u001b[1m0s\u001b[0m 11ms/step - accuracy: 0.9408 - loss: 0.4551 - val_accuracy: 0.9000 - val_loss: 1.0665\n",
            "Epoch 15/30\n",
            "\u001b[1m11/11\u001b[0m \u001b[32m━━━━━━━━━━━━━━━━━━━━\u001b[0m\u001b[37m\u001b[0m \u001b[1m0s\u001b[0m 14ms/step - accuracy: 0.8681 - loss: 1.1687 - val_accuracy: 0.9000 - val_loss: 1.3194\n",
            "Epoch 16/30\n",
            "\u001b[1m11/11\u001b[0m \u001b[32m━━━━━━━━━━━━━━━━━━━━\u001b[0m\u001b[37m\u001b[0m \u001b[1m0s\u001b[0m 11ms/step - accuracy: 0.8752 - loss: 1.2188 - val_accuracy: 0.9000 - val_loss: 1.1685\n",
            "Epoch 17/30\n",
            "\u001b[1m11/11\u001b[0m \u001b[32m━━━━━━━━━━━━━━━━━━━━\u001b[0m\u001b[37m\u001b[0m \u001b[1m0s\u001b[0m 14ms/step - accuracy: 0.8595 - loss: 0.8740 - val_accuracy: 0.9500 - val_loss: 1.4292\n",
            "Epoch 18/30\n",
            "\u001b[1m11/11\u001b[0m \u001b[32m━━━━━━━━━━━━━━━━━━━━\u001b[0m\u001b[37m\u001b[0m \u001b[1m0s\u001b[0m 11ms/step - accuracy: 0.8987 - loss: 0.5466 - val_accuracy: 0.8500 - val_loss: 2.8608\n",
            "Epoch 19/30\n",
            "\u001b[1m11/11\u001b[0m \u001b[32m━━━━━━━━━━━━━━━━━━━━\u001b[0m\u001b[37m\u001b[0m \u001b[1m0s\u001b[0m 11ms/step - accuracy: 0.9111 - loss: 0.5957 - val_accuracy: 0.9000 - val_loss: 1.9305\n",
            "Epoch 20/30\n",
            "\u001b[1m11/11\u001b[0m \u001b[32m━━━━━━━━━━━━━━━━━━━━\u001b[0m\u001b[37m\u001b[0m \u001b[1m0s\u001b[0m 11ms/step - accuracy: 0.9177 - loss: 0.7237 - val_accuracy: 0.8500 - val_loss: 2.4591\n",
            "Epoch 21/30\n",
            "\u001b[1m11/11\u001b[0m \u001b[32m━━━━━━━━━━━━━━━━━━━━\u001b[0m\u001b[37m\u001b[0m \u001b[1m0s\u001b[0m 15ms/step - accuracy: 0.8907 - loss: 1.3094 - val_accuracy: 0.8500 - val_loss: 1.3837\n",
            "Epoch 22/30\n",
            "\u001b[1m11/11\u001b[0m \u001b[32m━━━━━━━━━━━━━━━━━━━━\u001b[0m\u001b[37m\u001b[0m \u001b[1m0s\u001b[0m 20ms/step - accuracy: 0.9318 - loss: 0.5554 - val_accuracy: 0.8500 - val_loss: 1.7594\n",
            "Epoch 23/30\n",
            "\u001b[1m11/11\u001b[0m \u001b[32m━━━━━━━━━━━━━━━━━━━━\u001b[0m\u001b[37m\u001b[0m \u001b[1m0s\u001b[0m 20ms/step - accuracy: 0.8905 - loss: 0.8402 - val_accuracy: 0.8500 - val_loss: 2.0043\n",
            "Epoch 24/30\n",
            "\u001b[1m11/11\u001b[0m \u001b[32m━━━━━━━━━━━━━━━━━━━━\u001b[0m\u001b[37m\u001b[0m \u001b[1m0s\u001b[0m 20ms/step - accuracy: 0.8931 - loss: 0.5035 - val_accuracy: 0.9500 - val_loss: 1.5101\n",
            "Epoch 25/30\n",
            "\u001b[1m11/11\u001b[0m \u001b[32m━━━━━━━━━━━━━━━━━━━━\u001b[0m\u001b[37m\u001b[0m \u001b[1m0s\u001b[0m 21ms/step - accuracy: 0.9021 - loss: 0.3960 - val_accuracy: 0.9500 - val_loss: 2.4320\n",
            "Epoch 26/30\n",
            "\u001b[1m11/11\u001b[0m \u001b[32m━━━━━━━━━━━━━━━━━━━━\u001b[0m\u001b[37m\u001b[0m \u001b[1m0s\u001b[0m 19ms/step - accuracy: 0.9321 - loss: 0.2881 - val_accuracy: 0.9500 - val_loss: 1.9622\n",
            "Epoch 27/30\n",
            "\u001b[1m11/11\u001b[0m \u001b[32m━━━━━━━━━━━━━━━━━━━━\u001b[0m\u001b[37m\u001b[0m \u001b[1m0s\u001b[0m 19ms/step - accuracy: 0.9305 - loss: 0.2310 - val_accuracy: 0.9500 - val_loss: 1.4577\n",
            "Epoch 28/30\n",
            "\u001b[1m11/11\u001b[0m \u001b[32m━━━━━━━━━━━━━━━━━━━━\u001b[0m\u001b[37m\u001b[0m \u001b[1m0s\u001b[0m 19ms/step - accuracy: 0.9510 - loss: 0.2541 - val_accuracy: 0.9500 - val_loss: 1.9274\n",
            "Epoch 29/30\n",
            "\u001b[1m11/11\u001b[0m \u001b[32m━━━━━━━━━━━━━━━━━━━━\u001b[0m\u001b[37m\u001b[0m \u001b[1m0s\u001b[0m 25ms/step - accuracy: 0.9269 - loss: 0.3678 - val_accuracy: 0.9500 - val_loss: 1.4090\n",
            "Epoch 30/30\n",
            "\u001b[1m11/11\u001b[0m \u001b[32m━━━━━━━━━━━━━━━━━━━━\u001b[0m\u001b[37m\u001b[0m \u001b[1m0s\u001b[0m 11ms/step - accuracy: 0.9676 - loss: 0.1458 - val_accuracy: 0.9500 - val_loss: 1.3991\n",
            "\u001b[1m2/2\u001b[0m \u001b[32m━━━━━━━━━━━━━━━━━━━━\u001b[0m\u001b[37m\u001b[0m \u001b[1m0s\u001b[0m 25ms/step - accuracy: 0.7806 - loss: 2.3976\n",
            "Test Accuracy: 0.7959\n",
            "\u001b[1m2/2\u001b[0m \u001b[32m━━━━━━━━━━━━━━━━━━━━\u001b[0m\u001b[37m\u001b[0m \u001b[1m0s\u001b[0m 52ms/step\n"
          ]
        },
        {
          "output_type": "display_data",
          "data": {
            "text/plain": [
              "<Figure size 640x480 with 2 Axes>"
            ],
            "image/png": "[encoded data removed]"
          },
          "metadata": {}
        },
        {
          "output_type": "stream",
          "name": "stdout",
          "text": [
            "              precision    recall  f1-score   support\n",
            "\n",
            "        fall       0.70      0.50      0.58        14\n",
            "      nofall       0.82      0.91      0.86        35\n",
            "\n",
            "    accuracy                           0.80        49\n",
            "   macro avg       0.76      0.71      0.72        49\n",
            "weighted avg       0.79      0.80      0.78        49\n",
            "\n"
          ]
        }
      ]
    },
    {
      "cell_type": "code",
      "source": [
        "model.save('fall_detection_model.keras')\n",
        "\n"
      ],
      "metadata": {
        "id": "t9TbMAGW8w8F"
      },
      "execution_count": null,
      "outputs": []
    }
  ]
}